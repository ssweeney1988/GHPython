{
 "cells": [
  {
   "cell_type": "code",
   "execution_count": 1,
   "metadata": {
    "collapsed": false,
    "scrolled": false
   },
   "outputs": [
    {
     "name": "stdout",
     "output_type": "stream",
     "text": [
      "[30000, 30200, 30400, 30600, 30800, 31000, 31200, 31400, 31600, 31800]\n"
     ]
    },
    {
     "data": {
      "text/plain": [
       "10"
      ]
     },
     "execution_count": 1,
     "metadata": {},
     "output_type": "execute_result"
    }
   ],
   "source": [
    "# set radius list\n",
    "radius_list=[]\n",
    "x=30000\n",
    "#We are setting the radius, this will be from max radius to say 100 when we do it normlly \n",
    "# for i in range (10):\n",
    "#We are increasing the base radius by 200 each time we loop through\n",
    "#We are looping through 10 times, but we could actually call the loop number if we wanted, ie. 8\n",
    "for i in range (10):\n",
    "    radius_list.append(x)\n",
    "    x=x+200\n",
    "\n",
    "print (radius_list)\n",
    "len(radius_list)\n",
    "\n",
    "#max_radius = 4000 \n",
    "# (this is the base line)\n",
    "#two_line_offset = 100/2\n",
    "#print (two_line_offset)\n",
    "#min_radius = two_line_offset\n",
    "#print (min_radius)\n",
    "#we know some of these will not actually work or cut a line \n",
    "#for i in range (int(min_radius), max_radius):\n",
    "    #print (i)"
   ]
  },
  {
   "cell_type": "code",
   "execution_count": 4,
   "metadata": {
    "collapsed": false
   },
   "outputs": [
    {
     "ename": "SyntaxError",
     "evalue": "unexpected EOF while parsing (<ipython-input-4-0e76caf8fa10>, line 13)",
     "output_type": "error",
     "traceback": [
      "\u001b[0;36m  File \u001b[0;32m\"<ipython-input-4-0e76caf8fa10>\"\u001b[0;36m, line \u001b[0;32m13\u001b[0m\n\u001b[0;31m    # this will all give intersection points on the line, line is at the height radius line\u001b[0m\n\u001b[0m                                                                                           ^\u001b[0m\n\u001b[0;31mSyntaxError\u001b[0m\u001b[0;31m:\u001b[0m unexpected EOF while parsing\n"
     ]
    }
   ],
   "source": [
    "max_radius = 40000 \n",
    "# (this is the base line)\n",
    "height_offset = 5000\n",
    "# this is actually an input from the two points movement (a minus between the two)\n",
    "# this is the offset from the base point to the cut line (as below this wont cut)\n",
    "#print (two_line_offset)\n",
    "min_radius = height_offset\n",
    "print (min_radius)\n",
    "#we know some of these will not actually work or cut a line \n",
    "for i in range (int(min_radius), max_radius):\n",
    "    #print (i)\n",
    "    \n",
    "# this will all give intersection points on the line, line is at the height radius line"
   ]
  },
  {
   "cell_type": "markdown",
   "metadata": {
    "collapsed": true
   },
   "source": [
    "# we know we want to create two fake lines from radius to the base point \n",
    "\n",
    "then push this up to the hight distance to move the y values up, then we want to use the intersect as we know that will al\n",
    "always hit this as its improtislve not too, this might split it in two so we want to findthe right list \n",
    "order for the right line and the right for the end points \n",
    "\n",
    "for the upper most cut, not sure, maybe we want \n",
    "\n",
    "rs.EnableRedraw(False)\n",
    "\n",
    "rs.Addpoint (rs.CurveEndPoint(curve))\n",
    "\n",
    "rs.EnableRedraw(True)\n",
    "\n",
    "rs.SplitCurve\n",
    "\n",
    "rs.LineLineIntersection (line_A, Line_B)\n",
    "or\n",
    "rs.CurveCurveIntersection\n",
    "\n",
    "if point is not equal to Null, append the numbers, if it is append the base line numbers so we dont find it in our looop\n",
    "\n",
    "rs.AddPoint (point[0])"
   ]
  },
  {
   "cell_type": "code",
   "execution_count": 51,
   "metadata": {
    "collapsed": false
   },
   "outputs": [
    {
     "name": "stdout",
     "output_type": "stream",
     "text": [
      "[30000, 30200, 30400, 30600, 30800, 31000, 31200, 31400, 31600, 31800]\n",
      "proceed\n"
     ]
    },
    {
     "data": {
      "text/plain": [
       "[750, 3300, 2600]"
      ]
     },
     "execution_count": 51,
     "metadata": {},
     "output_type": "execute_result"
    }
   ],
   "source": [
    "# Create the points as a list within a list and run a check to see if the number of data points in radius and list match\n",
    "\n",
    "print (radius_list)\n",
    "\n",
    "points= [\n",
    "[550,3450, 2600], \n",
    "[560,3450, 2600],\n",
    "[750,3450, 2600],\n",
    "[850,3450, 2600],\n",
    "[1520,3450, 2600],\n",
    "[1200,3450, 2600],\n",
    "[879,3450, 2600],\n",
    "[345,3450, 2600],\n",
    "[234,3450, 2600],\n",
    "[654,3450, 2600]\n",
    "    \n",
    "]\n",
    "\n",
    "\n",
    "    \n"
   ]
  },
  {
   "cell_type": "code",
   "execution_count": 71,
   "metadata": {
    "collapsed": false
   },
   "outputs": [
    {
     "name": "stdout",
     "output_type": "stream",
     "text": [
      "proceed\n",
      "{30000: [550, 3450, 2600], 30200: [560, 3455, 2600], 30400: [750, 3300, 2600], 30600: [850, 3200, 2600], 30800: [1520, 1900, 2600], 31000: [1200, 2200, 2600], 31200: [879, 2358, 2600], 31400: [345, 2789, 2600], 31600: [234, 2800, 2600], 31800: [654, 2945, 2600]}\n"
     ]
    }
   ],
   "source": [
    "# Create dictionary\n",
    "\n",
    "match_point = [879, 2358, 2600]\n",
    "\n",
    "if len(radius_list) == len (points):\n",
    "    print ('proceed')\n",
    "    dictionary = dict(zip(radius_list, points))\n",
    "    print(dictionary)"
   ]
  },
  {
   "cell_type": "code",
   "execution_count": 78,
   "metadata": {
    "collapsed": false
   },
   "outputs": [
    {
     "name": "stdout",
     "output_type": "stream",
     "text": [
      "[879, 2358, 2600]\n",
      "[879, 2358, 2600]\n"
     ]
    }
   ],
   "source": [
    "#run loops to find the matching numbers\n",
    "\n",
    "match_numbers = []\n",
    "\n",
    "for i in dictionary.values():\n",
    "    #print (i[0])\n",
    "    #print (match_point [0])\n",
    "    if i[0] == match_point [0]:\n",
    "        #print (i[0])\n",
    "        match_numbers.append(i[0])\n",
    "        if i[1] == match_point [1]:\n",
    "            #print (i[1])\n",
    "            match_numbers.append(i[1])\n",
    "            if i[2] == match_point [2]:\n",
    "                match_numbers.append(i[2])\n",
    "                #print (i[2])\n",
    "\n",
    "print (match_numbers)\n",
    "print (match_point)\n",
    "    \n"
   ]
  },
  {
   "cell_type": "markdown",
   "metadata": {},
   "source": [
    ">>> z = {'x':(123,'SE',2,1),'z':(124,'CI',1,1)}\n",
    ">>> for key in z:\n",
    "...     print key,\n",
    "...\n",
    "'x' 'z'\n",
    "\n",
    ">>> z = {'x':(123,'SE',2,1),'z':(124,'CI',1,1)}\n",
    ">>> for value in z.values(): # Alternatively itervalues() for memory-efficiency (but ugly)\n",
    "...     print value,\n",
    "...\n",
    "(123,'SE',2,1) (124,'CI',1,1)\n",
    "\n",
    ">>> z = {'x':(123,'SE',2,1),'z':(124,'CI',1,1)}\n",
    ">>> for key, value in z.items(): # Again, iteritems() for memory-efficiency\n",
    "...     print key, value,\n",
    "...\n",
    "'x' (123,'SE',2,1) 'z' (124,'CI',1,1)"
   ]
  },
  {
   "cell_type": "code",
   "execution_count": 86,
   "metadata": {
    "collapsed": false
   },
   "outputs": [
    {
     "name": "stdout",
     "output_type": "stream",
     "text": [
      "31200\n",
      "[879, 2358, 2600]\n"
     ]
    }
   ],
   "source": [
    "# find the dictionary key that corresponds to the correct values\n",
    "\n",
    " \n",
    "for key, values in dictionary.items():    \n",
    "    #print (values)\n",
    "    if values == match_numbers:\n",
    "        correct_radius = key\n",
    "\n",
    "\n",
    "# this gives us the correct value, we do this as a seperate loop as our first for loop before we could have\n",
    "# double ups and they may not all come from the same list\n",
    "        \n",
    "print(correct_radius)\n",
    "print(match_numbers)"
   ]
  },
  {
   "cell_type": "code",
   "execution_count": 3,
   "metadata": {
    "collapsed": false
   },
   "outputs": [
    {
     "name": "stdout",
     "output_type": "stream",
     "text": [
      "[120, 8000, 533]\n"
     ]
    }
   ],
   "source": [
    "#import rhinoscriptsyntax as rs\n",
    "x=10000\n",
    "base_point = [120,8000,533]\n",
    "match_point = [120,8000,533]\n",
    "return_points =[]\n",
    "              \n",
    "for i in range(x):              \n",
    "    if base_point [0] == i:\n",
    "        #print (i)\n",
    "        return_points.append(i)\n",
    "        for i in range (x):\n",
    "            if base_point [1] == i:\n",
    "                return_points.append(i)\n",
    "                for i in range (x):\n",
    "                    if base_point [2] == i:\n",
    "                        return_points.append(i)\n",
    "\n",
    "\n",
    "    \n",
    "print (return_points)\n",
    "\n",
    "# This is passing through all of the potential numbers and waiting until it finds a match and if the x works, then we go to 7\n",
    "\n",
    "\n",
    "#LineLineIntersection\n",
    "#centerpoint = [1, 2, 4]\n",
    "#rs.AddCircle( centerpoint, 5.0 )\n",
    "#rs.CreatePoint(1.0, 2.0, 3.0)\n",
    "#startPoint = [1.0, 2.0, 3.0]\n",
    "#endPoint = [4.0, 5.0, 6.0]\n",
    "#line1 = [startPoint, endPoint]\n",
    "\n",
    "#lineID = rs.AddLine(line1[0],line1[1])"
   ]
  },
  {
   "cell_type": "code",
   "execution_count": null,
   "metadata": {
    "collapsed": true
   },
   "outputs": [],
   "source": []
  },
  {
   "cell_type": "code",
   "execution_count": 1,
   "metadata": {
    "collapsed": false
   },
   "outputs": [
    {
     "name": "stdout",
     "output_type": "stream",
     "text": [
      "here\n"
     ]
    }
   ],
   "source": [
    "print ('here')"
   ]
  }
 ],
 "metadata": {
  "kernelspec": {
   "display_name": "Python 3",
   "language": "python",
   "name": "python3"
  },
  "language_info": {
   "codemirror_mode": {
    "name": "ipython",
    "version": 3
   },
   "file_extension": ".py",
   "mimetype": "text/x-python",
   "name": "python",
   "nbconvert_exporter": "python",
   "pygments_lexer": "ipython3",
   "version": "3.6.0"
  }
 },
 "nbformat": 4,
 "nbformat_minor": 2
}
